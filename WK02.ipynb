{
  "cells": [
    {
      "cell_type": "markdown",
      "metadata": {
        "id": "Ty-DVrJlaN1T"
      },
      "source": [
        "# Week 02"
      ]
    },
    {
      "cell_type": "markdown",
      "metadata": {},
      "source": [
        "## Citing open-source / found code\n",
        "\n",
        "Sometimes the citation will be part of the code. Whenever you use the `import` command, I'll know the code is coming form somewhere else and it's easy to figure out where."
      ]
    },
    {
      "cell_type": "code",
      "execution_count": null,
      "metadata": {},
      "outputs": [],
      "source": [
        "import matplotlib.pyplot as plt\n",
        "import numpy as np\n",
        "\n",
        "plt.plot(np.sin(np.arange(0, 4 * np.pi, .1)))\n",
        "plt.plot(np.cos(np.arange(0, 4 * np.pi, .1)), c='r')\n",
        "plt.show()"
      ]
    },
    {
      "cell_type": "markdown",
      "metadata": {},
      "source": [
        "Other times the citation will have to be a little more explicit.\n",
        "\n",
        "A link to the original code, repo, or stackoverflow answer is enough."
      ]
    },
    {
      "cell_type": "code",
      "execution_count": null,
      "metadata": {},
      "outputs": [],
      "source": [
        "import cv2\n",
        "from scipy import fftpack\n",
        "from imagehash import ImageHash\n",
        "\n",
        "# Function for computing the perceptual hash of an image\n",
        "# Based on code from the vframe project:\n",
        "#   https://github.com/vframeio/vframe/blob/master/src/vframe/utils/im_utils.py#L37-L48\n",
        "# which is based on code from the imagehash library:\n",
        "#   https://github.com/JohannesBuchner/imagehash/blob/master/imagehash.py#L197\n",
        "\n",
        "def phash(im, hash_size=8, highfreq_factor=4):\n",
        "  wh = hash_size * highfreq_factor\n",
        "  im = cv2.resize(im, (wh, wh), interpolation=cv2.INTER_NEAREST)\n",
        "  if len(im.shape) > 2 and im.shape[2] > 1:\n",
        "    im = cv2.cvtColor(im, cv2.COLOR_BGR2GRAY)\n",
        "  mdct = fftpack.dct(fftpack.dct(im, axis=0), axis=1)\n",
        "  dctlowfreq = mdct[:hash_size, :hash_size]\n",
        "  med = np.median(dctlowfreq)\n",
        "  diff = dctlowfreq > med\n",
        "  return ImageHash(diff)"
      ]
    },
    {
      "cell_type": "markdown",
      "metadata": {
        "id": "s-e8uvrIca09"
      },
      "source": [
        "Ok, back to Week 02\n",
        "\n",
        "## Setup\n",
        "\n",
        "Let's import some helper functions and libraries"
      ]
    },
    {
      "cell_type": "code",
      "execution_count": null,
      "metadata": {
        "id": "uHIQDMJ-WTei"
      },
      "outputs": [],
      "source": [
        "import random"
      ]
    },
    {
      "cell_type": "markdown",
      "metadata": {},
      "source": [
        "## Ranges\n",
        "\n",
        "<img src=\"./imgs/range.jpg\" width=\"500px\" />\n",
        "\n",
        "Range of integers between 0 and 10:"
      ]
    },
    {
      "cell_type": "code",
      "execution_count": null,
      "metadata": {},
      "outputs": [],
      "source": [
        "range(0, 10)\n",
        "\n",
        "# TODO: take a look at the range values using casting\n",
        "list(range(0, 10))"
      ]
    },
    {
      "cell_type": "markdown",
      "metadata": {},
      "source": [
        "Range of integers between 0 and 100 skipping by 10s:"
      ]
    },
    {
      "cell_type": "code",
      "execution_count": null,
      "metadata": {},
      "outputs": [],
      "source": [
        "range(0, 100, 10)\n",
        "\n",
        "# TODO: take a look at the range values using casting\n",
        "list(range(0, 100, 10))"
      ]
    },
    {
      "cell_type": "markdown",
      "metadata": {},
      "source": [
        "## Lists\n",
        "### Creating lists from sequences of numbers\n",
        "#### Create a list with all the numbers between 0 and 1000 that end in 91"
      ]
    },
    {
      "cell_type": "code",
      "execution_count": null,
      "metadata": {},
      "outputs": [],
      "source": [
        "list_x91 = []\n",
        "\n",
        "# TODO: for loop\n",
        "for i in range(91, 1000, 100):\n",
        "  list_x91.append(i)\n",
        "print(list_x91)\n",
        "\n",
        "# TODO: comprehension\n",
        "list_x91 = [i for i in range(91, 1000, 100)]\n",
        "print(list_x91)\n",
        "\n",
        "# TODO: casting\n",
        "list_x91 = list(range(91, 1000, 100))\n",
        "print(list_x91)"
      ]
    },
    {
      "cell_type": "markdown",
      "metadata": {},
      "source": [
        "### List indexing\n",
        "\n",
        "Indexing from the front is normal:"
      ]
    },
    {
      "cell_type": "code",
      "execution_count": null,
      "metadata": {},
      "outputs": [],
      "source": [
        "print(list_x91)\n",
        "print(list_x91[0])\n",
        "print(list_x91[2])\n",
        "print(list_x91[8])"
      ]
    },
    {
      "cell_type": "markdown",
      "metadata": {},
      "source": [
        "But, Python also lets us index from the back with negative numbers:"
      ]
    },
    {
      "cell_type": "code",
      "execution_count": null,
      "metadata": {},
      "outputs": [],
      "source": [
        "print(list_x91[-1])\n",
        "print(list_x91[-2])\n",
        "print(list_x91[-8])"
      ]
    },
    {
      "cell_type": "markdown",
      "metadata": {},
      "source": [
        "### Create a list with 10 number 0's"
      ]
    },
    {
      "cell_type": "code",
      "execution_count": null,
      "metadata": {},
      "outputs": [],
      "source": [
        "list_10_0 = []\n",
        "\n",
        "# TODO: math with lists\n",
        "list_10_0 = 10 * [0]\n",
        "print(list_10_0)\n",
        "\n",
        "list_10_0_3_3_4_7 = 10 * [0] + 3 * [3] + 4 * [7]\n",
        "print(list_10_0_3_3_4_7)"
      ]
    },
    {
      "cell_type": "markdown",
      "metadata": {},
      "source": [
        "### Create list of numbers between 0 and 100 that are divisible by 7:"
      ]
    },
    {
      "cell_type": "code",
      "execution_count": null,
      "metadata": {},
      "outputs": [],
      "source": [
        "# TODO: probably easier using comprehension\n",
        "\n",
        "list_100_7 = []\n",
        "for i in range(0,100):\n",
        "    if i % 7 == 0:\n",
        "        list_100_7.append(i)\n",
        "print(list_100_7)\n",
        "\n",
        "list_100_7 = [i for i in range(0,100) if i % 7 == 0]\n",
        "print(list_100_7)"
      ]
    },
    {
      "cell_type": "markdown",
      "metadata": {},
      "source": [
        "### List functions\n",
        "\n",
        "Members of each `list` object.\n",
        "\n",
        "<img src=\"./imgs/lists00.jpg\" width=\"500px\" />"
      ]
    },
    {
      "cell_type": "markdown",
      "metadata": {
        "id": "hBs429yN9wYE"
      },
      "source": [
        "### Create a list of 1000 random numbers between 0 and 1000"
      ]
    },
    {
      "cell_type": "code",
      "execution_count": null,
      "metadata": {
        "id": "36_m35zIyN2h"
      },
      "outputs": [],
      "source": [
        "# TODO: with for loop\n",
        "list_of_randoms = []\n",
        "for cnt in range(1000):\n",
        "    list_of_randoms.append(random.randint(0, 1000))\n",
        "\n",
        "print(len(list_of_randoms))\n",
        "\n",
        "# TODO: with comprehension\n",
        "list_of_randoms_c = [random.randint(0, 1000) for cnt in range(1000)]\n",
        "print(len(list_of_randoms_c))"
      ]
    },
    {
      "cell_type": "markdown",
      "metadata": {
        "id": "7Aw4WiDS92MU"
      },
      "source": [
        "### Print the numbers and their index"
      ]
    },
    {
      "cell_type": "code",
      "execution_count": null,
      "metadata": {},
      "outputs": [],
      "source": [
        "# TODO: with len\n",
        "for idx in range(len(list_of_randoms)):\n",
        "  print(idx, list_of_randoms[idx])"
      ]
    },
    {
      "cell_type": "code",
      "execution_count": null,
      "metadata": {
        "id": "h3ochjQlzQ4e"
      },
      "outputs": [],
      "source": [
        "# TODO: with enumerate\n",
        "for idx,val in enumerate(list_of_randoms):\n",
        "  print(idx, val)"
      ]
    },
    {
      "cell_type": "markdown",
      "metadata": {
        "id": "XfMx81LP-b_h"
      },
      "source": [
        "### Find the largest element on a list\n",
        "\n",
        "Go through all of the elements and compare each element to the largest number seen so far.\n",
        "\n",
        "Update the `largest` variable if we encounter a larger number."
      ]
    },
    {
      "cell_type": "code",
      "execution_count": null,
      "metadata": {
        "id": "J7eLIAnwxODF"
      },
      "outputs": [],
      "source": [
        "largest = list_of_randoms[0]\n",
        "\n",
        "# TODO: find max\n",
        "for x in list_of_randoms:\n",
        "    if x > largest:\n",
        "        largest = x\n",
        "\n",
        "print(largest)"
      ]
    },
    {
      "cell_type": "markdown",
      "metadata": {
        "id": "OQoQSbbC-7Gg"
      },
      "source": [
        "### Find the smallest element on a list\n",
        "\n",
        "Go through all of the elements and compare each element to the smallest number seen so far.\n",
        "\n",
        "Update the `smallest` variable if we encounter a smaller number."
      ]
    },
    {
      "cell_type": "code",
      "execution_count": null,
      "metadata": {
        "id": "5OSOQAVc3s3X"
      },
      "outputs": [],
      "source": [
        "smallest = list_of_randoms[0]\n",
        "\n",
        "# TODO: find min\n",
        "for x in list_of_randoms:\n",
        "    if x < smallest:\n",
        "        smallest = x\n",
        "\n",
        "print(smallest)"
      ]
    },
    {
      "cell_type": "markdown",
      "metadata": {
        "id": "rFL_vZuR_A2Z"
      },
      "source": [
        "### Find the sum of all elements on a list\n",
        "\n",
        "Go through all of the elements and add their values to an accumulator variable."
      ]
    },
    {
      "cell_type": "code",
      "execution_count": null,
      "metadata": {
        "id": "g4FjyViC4T_p"
      },
      "outputs": [],
      "source": [
        "my_sum = 0\n",
        "\n",
        "# TODO: find sum\n",
        "for x in list_of_randoms:\n",
        "    my_sum += x\n",
        "\n",
        "print(my_sum)"
      ]
    },
    {
      "cell_type": "markdown",
      "metadata": {
        "id": "VlI-SzPa_Ja4"
      },
      "source": [
        "### Python has built in functions for doing these things"
      ]
    },
    {
      "cell_type": "code",
      "execution_count": null,
      "metadata": {
        "id": "ruGHhgm05p_t"
      },
      "outputs": [],
      "source": [
        "min(list_of_randoms), max(list_of_randoms), sum(list_of_randoms)"
      ]
    },
    {
      "cell_type": "markdown",
      "metadata": {},
      "source": [
        "### Find the 5 largest and 5 smallest numbers on a list\n",
        "\n",
        "# 🤔"
      ]
    },
    {
      "cell_type": "markdown",
      "metadata": {
        "id": "8sYq0tQj6z0e"
      },
      "source": [
        "### Python has a function for sorting a list that could help"
      ]
    },
    {
      "cell_type": "code",
      "execution_count": null,
      "metadata": {
        "id": "DJlfGTZZ6SJt"
      },
      "outputs": [],
      "source": [
        "my_sorted_list = sorted(list_of_randoms)\n",
        "\n",
        "print(list_of_randoms)\n",
        "print(my_sorted_list)"
      ]
    },
    {
      "cell_type": "markdown",
      "metadata": {},
      "source": [
        "### Functions on lists\n",
        "\n",
        "These are functions that Python gives us to work on lists.\n",
        "\n",
        "There are functions for sorting, reversing and getting the length of a `list`:\n",
        "\n",
        "<img src=\"./imgs/lists01.jpg\" width=\"600px\" />\n",
        "\n",
        "#### Order from largest to smallest\n",
        "\n",
        "Sort, then reverse:"
      ]
    },
    {
      "cell_type": "code",
      "execution_count": null,
      "metadata": {},
      "outputs": [],
      "source": [
        "my_reversed_sorted_list = list(reversed(my_sorted_list))\n",
        "\n",
        "print(list_of_randoms)\n",
        "print(my_sorted_list)\n",
        "print(my_reversed_sorted_list)"
      ]
    },
    {
      "cell_type": "markdown",
      "metadata": {},
      "source": [
        "#### Order from largest to smallest\n",
        "\n",
        "Sort in reverse:"
      ]
    },
    {
      "cell_type": "code",
      "execution_count": null,
      "metadata": {},
      "outputs": [],
      "source": [
        "my_reversed_sorted_list = sorted(list_of_randoms, reverse=True)\n",
        "\n",
        "print(list_of_randoms)\n",
        "print(my_sorted_list)\n",
        "print(my_reversed_sorted_list)"
      ]
    },
    {
      "cell_type": "markdown",
      "metadata": {
        "id": "zIJjJ8rx_W8s"
      },
      "source": [
        "### With a sorted list we can more easily print the 5 smallest and 5 largest elements\n"
      ]
    },
    {
      "cell_type": "code",
      "execution_count": null,
      "metadata": {
        "id": "ytoCAy4p_dCZ"
      },
      "outputs": [],
      "source": [
        "my_sorted_list[ :5], my_sorted_list[-5: ]"
      ]
    },
    {
      "cell_type": "markdown",
      "metadata": {},
      "source": [
        "### :W:T:F:?:\n",
        "\n",
        "### Slicing\n",
        "\n",
        "Python has a built-in mechanism for getting sub-sections of a list called *slicing*.\n",
        "\n",
        "Instead of a single index, we specify two values in the square bracket, separated by a `:`, to specify where our slice starts and ends:\n",
        "\n",
        "<img src=\"./imgs/slicing.jpg\" width=\"700px\" />\n",
        "\n",
        "One **VERY** important thing to remember is that the second index in the bracket is **NOT** included in the slice."
      ]
    },
    {
      "cell_type": "code",
      "execution_count": null,
      "metadata": {},
      "outputs": [],
      "source": [
        "my_list = [random.randint(0, 12) for i in range(0, 20)]\n",
        "my_list, my_list[0 : 5]"
      ]
    },
    {
      "cell_type": "markdown",
      "metadata": {},
      "source": [
        "As another example:  \n",
        "`my_list[4 : 10]` would be used to access $6$ elements starting at position $4$, so ...\n",
        "<br>elements $4$ - $9$ on the list. The second index in the slice, $10$, is not included."
      ]
    },
    {
      "cell_type": "code",
      "execution_count": null,
      "metadata": {},
      "outputs": [],
      "source": [
        "my_list[4 : 10]"
      ]
    },
    {
      "cell_type": "markdown",
      "metadata": {},
      "source": [
        "And, Python being Python, it tries to be smart and keep us from unnecessary typing:\n",
        "- if the first index is blank, the slice will start at the first element \n",
        "- if the second index is blank, the slice will go until the end of the list"
      ]
    },
    {
      "cell_type": "code",
      "execution_count": null,
      "metadata": {},
      "outputs": [],
      "source": [
        "my_list, my_list[0 : 5], my_list[ :5]"
      ]
    },
    {
      "cell_type": "code",
      "execution_count": null,
      "metadata": {},
      "outputs": [],
      "source": [
        "my_list[15 : 20], my_list[15: ]"
      ]
    },
    {
      "cell_type": "markdown",
      "metadata": {},
      "source": [
        "We can use negative indexes to slice from the back:\n",
        "\n",
        "`a_list[-5 : len(a_list)]` would grab the last 5 elements from the list `my_list`,\n",
        "<br>but this can be simplified with `a_list[-5: ]`."
      ]
    },
    {
      "cell_type": "code",
      "execution_count": null,
      "metadata": {},
      "outputs": [],
      "source": [
        "my_list[-5 : len(my_list)], my_list[-5: ]"
      ]
    },
    {
      "cell_type": "markdown",
      "metadata": {},
      "source": [
        "### How would we get the 5 items in the center?"
      ]
    },
    {
      "cell_type": "code",
      "execution_count": null,
      "metadata": {},
      "outputs": [],
      "source": [
        "center_index = len(my_list) // 2\n",
        "center_5 = my_list[center_index - 2 : center_index + 3]\n",
        "\n",
        "print(my_list)\n",
        "print(center_5)"
      ]
    },
    {
      "cell_type": "markdown",
      "metadata": {},
      "source": [
        "### This should make more sense now:"
      ]
    },
    {
      "cell_type": "code",
      "execution_count": null,
      "metadata": {},
      "outputs": [],
      "source": [
        "my_sorted_list[ :5], my_sorted_list[-5: ]"
      ]
    },
    {
      "cell_type": "markdown",
      "metadata": {},
      "source": [
        "## Objects"
      ]
    },
    {
      "cell_type": "markdown",
      "metadata": {},
      "source": [
        "### Creating objects"
      ]
    },
    {
      "cell_type": "code",
      "execution_count": null,
      "metadata": {},
      "outputs": [],
      "source": [
        "my_info = {\n",
        "  \"name\": \"thiago\",\n",
        "  \"id\": 8114,\n",
        "  \"zip\": 11001,\n",
        "  \"grades\": [90, 80, 60],\n",
        "  \"attendance\": [True, True, False, True, True],\n",
        "  \"final grade\": \"A\"\n",
        "}\n",
        "my_info"
      ]
    },
    {
      "cell_type": "markdown",
      "metadata": {},
      "source": [
        "### Accessing values at specific keys"
      ]
    },
    {
      "cell_type": "code",
      "execution_count": null,
      "metadata": {},
      "outputs": [],
      "source": [
        "print(my_info[\"name\"])\n",
        "print(my_info[\"grades\"])"
      ]
    },
    {
      "cell_type": "markdown",
      "metadata": {},
      "source": [
        "### Modifying and Adding values"
      ]
    },
    {
      "cell_type": "code",
      "execution_count": null,
      "metadata": {},
      "outputs": [],
      "source": [
        "my_info[\"zip\"] = 11202\n",
        "my_info[\"course\"] = 9103\n",
        "my_info[\"section\"] = \"H\"\n",
        "my_info"
      ]
    },
    {
      "cell_type": "markdown",
      "metadata": {},
      "source": [
        "### Iterating over keys, values and items\n",
        "\n",
        "<img src=\"./imgs/objects.jpg\" width=\"500px\" />"
      ]
    },
    {
      "cell_type": "code",
      "execution_count": null,
      "metadata": {},
      "outputs": [],
      "source": [
        "# TODO use my_info.keys(), .values() and .items() to print object\n",
        "\n",
        "for k in my_info.keys():\n",
        "    print(k)\n",
        "\n",
        "print()\n",
        "\n",
        "for v in my_info.values():\n",
        "    print(v)\n",
        "\n",
        "print()\n",
        "\n",
        "for k,v in my_info.items():\n",
        "    print(k,\":\", v)\n"
      ]
    },
    {
      "cell_type": "markdown",
      "metadata": {},
      "source": [
        "## List of objects\n",
        "\n",
        "### Create a list of 10 objects with random heights and brooklyn zip codes.\n",
        "\n",
        "```python\n",
        "my_data = [\n",
        "  {\"height\": [60, 70], \"zip\": [11200, 11250]},\n",
        "  {\"height\": [60, 70], \"zip\": [11200, 11250]},\n",
        "  {\"height\": [60, 70], \"zip\": [11200, 11250]},\n",
        "  ...\n",
        "]\n",
        "```"
      ]
    },
    {
      "cell_type": "code",
      "execution_count": null,
      "metadata": {},
      "outputs": [],
      "source": [
        "my_data = []\n",
        "# TODO: create list of random objects\n",
        "\n",
        "for cnt in range(10):\n",
        "    obj = {\n",
        "        \"height\": random.randint(60, 70),\n",
        "        \"zip\": random.randint(11200, 11250)\n",
        "    }\n",
        "    my_data.append(obj)\n",
        "\n",
        "my_data"
      ]
    },
    {
      "cell_type": "markdown",
      "metadata": {},
      "source": [
        "### BONUS: Let's add an id for each object and remove height"
      ]
    },
    {
      "cell_type": "code",
      "execution_count": null,
      "metadata": {},
      "outputs": [],
      "source": [
        "# import library with functions/variables that deal with words and text\n",
        "import string\n",
        "\n",
        "# like, a list of all lowercase letters\n",
        "print(string.ascii_lowercase)\n",
        "\n",
        "# and a list of all digits\n",
        "print(string.digits)"
      ]
    },
    {
      "cell_type": "code",
      "execution_count": null,
      "metadata": {},
      "outputs": [],
      "source": [
        "# function to create a random id\n",
        "def create_id():\n",
        "  id = \"\"\n",
        "  # choose 3 random letter from a list of all letters\n",
        "  for cnt in range(3):\n",
        "    id += random.choice(string.ascii_lowercase)\n",
        "\n",
        "  # choose 4 random digits from a list of all digits\n",
        "  for cnt in range(4):\n",
        "    id += random.choice(string.digits)\n",
        "  return id\n",
        "\n",
        "for obj in my_data:\n",
        "  del obj[\"height\"]\n",
        "  obj[\"id\"] = create_id()\n",
        "\n",
        "my_data"
      ]
    },
    {
      "cell_type": "markdown",
      "metadata": {},
      "source": [
        "### Let's add a list of 3 grades for each member of the list and another item with their computed average"
      ]
    },
    {
      "cell_type": "code",
      "execution_count": null,
      "metadata": {},
      "outputs": [],
      "source": [
        "# TODO: first, add grade list to objects\n",
        "\n",
        "for obj in my_data:\n",
        "    obj[\"grades\"] = [random.randint(70, 100) for cnt in range(3)]\n",
        "\n",
        "my_data"
      ]
    },
    {
      "cell_type": "markdown",
      "metadata": {},
      "source": [
        "### Average\n",
        "\n",
        "<img src=\"./imgs/average00.jpg\" width=\"500px\" />\n",
        "\n",
        "<img src=\"./imgs/average01.jpg\" width=\"500px\" />"
      ]
    },
    {
      "cell_type": "code",
      "execution_count": null,
      "metadata": {},
      "outputs": [],
      "source": [
        "# TODO: compute and store averages\n",
        "\n",
        "for obj in my_data:\n",
        "    obj[\"avg\"] = round(sum(obj[\"grades\"]) / len(obj[\"grades\"]), 1)\n",
        "\n",
        "my_data"
      ]
    },
    {
      "cell_type": "markdown",
      "metadata": {},
      "source": [
        "### Get highest and lowest average grades\n",
        "\n",
        "First, get all average grades, then use `min()`/`max()`"
      ]
    },
    {
      "cell_type": "code",
      "execution_count": null,
      "metadata": {},
      "outputs": [],
      "source": [
        "grades = []\n",
        "for obj in my_data:\n",
        "    grades.append(obj[\"avg\"])\n",
        "\n",
        "min(grades), max(grades)"
      ]
    },
    {
      "cell_type": "markdown",
      "metadata": {},
      "source": [
        "### Sort objects by average grades\n",
        "\n",
        "We could first get all the average grades and then sort the new list:"
      ]
    },
    {
      "cell_type": "code",
      "execution_count": null,
      "metadata": {},
      "outputs": [],
      "source": [
        "# TODO: get list of avg grades\n",
        "grades = []\n",
        "for obj in my_data:\n",
        "    grades.append(obj[\"avg\"])\n",
        "\n",
        "by_grade = sorted(grades)\n",
        "\n",
        "print(\"original:\\n\", grades)\n",
        "print(\"sorted:\\n\", by_grade)"
      ]
    },
    {
      "cell_type": "markdown",
      "metadata": {},
      "source": [
        "### But now we don't have the other associated information with each grade.\n",
        "\n",
        "We want to sort the list while keeping the objects together.\n",
        "\n",
        "Would be nice to be able to do something like this, just like with a `list`:"
      ]
    },
    {
      "cell_type": "code",
      "execution_count": null,
      "metadata": {},
      "outputs": [],
      "source": [
        "by_grade = sorted(my_data)\n",
        "print(by_grade)"
      ]
    },
    {
      "cell_type": "markdown",
      "metadata": {},
      "source": [
        "### Sorting Objects\n",
        "\n",
        "For lists of objects we have to tell python which values to compare to determine their order.\n",
        "\n",
        "We do this by defining a key function.\n",
        "\n",
        "Key functions receive one argument, that can be an object, a list, a class member, anything... and they return one numerical value.\n",
        "\n",
        "<img src=\"./imgs/list-of-objects.jpg\" width=\"620px\" />"
      ]
    },
    {
      "cell_type": "code",
      "execution_count": null,
      "metadata": {},
      "outputs": [],
      "source": [
        "# this key function receives a student-info object with {height, grade, zip, etc}\n",
        "# and should return just the average grade value\n",
        "def gradeKey(person):\n",
        "  return person[\"avg\"]\n",
        "\n",
        "# then we can just use it when we call sorted()\n",
        "by_grade = sorted(my_data, key=gradeKey)\n",
        "\n",
        "by_grade"
      ]
    },
    {
      "cell_type": "code",
      "execution_count": null,
      "metadata": {},
      "outputs": [],
      "source": [
        "# TODO: sort by first assignment grade\n",
        "def hw01Key(person):\n",
        "  return person[\"grades\"][0]\n",
        "\n",
        "by_hw01 = sorted(my_data, key=hw01Key)\n",
        "\n",
        "by_hw01"
      ]
    },
    {
      "cell_type": "markdown",
      "metadata": {},
      "source": [
        "### `min()`/`max()` functions also work with a `key` argument:"
      ]
    },
    {
      "cell_type": "code",
      "execution_count": null,
      "metadata": {},
      "outputs": [],
      "source": [
        "# student with highest average grade\n",
        "max_by_grade = max(my_data, key=gradeKey)\n",
        "\n",
        "# student with lowest score on first assignment\n",
        "min_by_hw01 = min(my_data, key=hw01Key)\n",
        "\n",
        "print(max_by_grade)\n",
        "print(min_by_hw01)"
      ]
    },
    {
      "cell_type": "markdown",
      "metadata": {},
      "source": [
        "## Bigger Lists"
      ]
    },
    {
      "cell_type": "markdown",
      "metadata": {},
      "source": [
        "## Setup\n",
        "\n",
        "Include some helper functions and libraries"
      ]
    },
    {
      "cell_type": "code",
      "execution_count": null,
      "metadata": {},
      "outputs": [],
      "source": [
        "!wget -q https://github.com/DM-GY-9103-2024F-H/9103-utils/raw/main/src/data_utils.py"
      ]
    },
    {
      "cell_type": "code",
      "execution_count": null,
      "metadata": {},
      "outputs": [],
      "source": [
        "import matplotlib.pyplot as plt\n",
        "\n",
        "from data_utils import object_from_json_url"
      ]
    },
    {
      "cell_type": "markdown",
      "metadata": {},
      "source": [
        "### Load ANSUR 2 Databse\n",
        "\n",
        "The `JSON` file has a subset of the measurements found [here](https://www.openlab.psu.edu/ansur2/)."
      ]
    },
    {
      "cell_type": "code",
      "execution_count": null,
      "metadata": {},
      "outputs": [],
      "source": [
        "ANSUR_JSON_URL = \"https://raw.githubusercontent.com/DM-GY-9103-2024F-H/9103-utils/main/datasets/json/ansur.json\"\n",
        "ansur = object_from_json_url(ANSUR_JSON_URL)\n",
        "\n",
        "# TODO: look at the data\n",
        "\n",
        "# Answer:\n",
        "#   - how many rows/records/items ?\n",
        "#   - tallest height ?\n",
        "#   - longest ear ?\n",
        "#   - average ear length ?\n",
        "\n",
        "print(len(ansur))\n",
        "ansur[:2]"
      ]
    },
    {
      "cell_type": "markdown",
      "metadata": {},
      "source": [
        "### Let's look at a simpler versions:"
      ]
    },
    {
      "cell_type": "code",
      "execution_count": null,
      "metadata": {},
      "outputs": [],
      "source": [
        "AHW_JSON_URL = \"https://raw.githubusercontent.com/DM-GY-9103-2024F-H/9103-utils/main/datasets/json/ansur_age_height_weight_object.json\"\n",
        "ahw_objs = object_from_json_url(AHW_JSON_URL)\n",
        "\n",
        "# TODO: look at data\n",
        "# How is it organized ?"
      ]
    },
    {
      "cell_type": "code",
      "execution_count": null,
      "metadata": {},
      "outputs": [],
      "source": [
        "AHW_LIST_URL = \"https://raw.githubusercontent.com/DM-GY-9103-2024F-H/9103-utils/main/datasets/json/ansur_age_height_weight.json\"\n",
        "ahws = object_from_json_url(AHW_LIST_URL)\n",
        "\n",
        "# TODO: look at data\n",
        "# How is it organized ?\n",
        "\n",
        "# Answer the following:\n",
        "#   - how many items ?\n",
        "#   - how do we access the height of a person ?"
      ]
    },
    {
      "cell_type": "markdown",
      "metadata": {},
      "source": [
        "## List of Lists\n",
        "\n",
        "Just like we can put lists inside objects, and objects inside lists, we can also put lists inside lists.\n",
        "\n",
        "If we want to get to a particular value we have to use $2$ indices instead of using just one:\n",
        "`list[i][j]`\n",
        "\n",
        "The first index tells Python which of the sub-lists we want, and the second specifies the item on that list.\n",
        "\n",
        "<img src=\"./imgs/list-of-lists00.jpg\" width=\"700px\" />\n",
        "\n",
        "<img src=\"./imgs/list-of-lists01.jpg\" width=\"700px\" />\n",
        "\n",
        "Sometimes we'll refer to the first index as the row index and the second index as the column index.\n",
        "\n",
        "That's because if we imagine our list of lists as a 2-dimensional matrix of numbers, the first index tells Python which row we want to access and the second tells which column:\n",
        "\n",
        "<img src=\"./imgs/list-of-lists02.jpg\" width=\"700px\" />\n",
        "\n",
        "<img src=\"./imgs/list-of-lists03.jpg\" width=\"700px\" />"
      ]
    },
    {
      "cell_type": "markdown",
      "metadata": {},
      "source": [
        "### Datasets\n",
        "\n",
        "We'll see this kind of structure a lot.\n",
        "\n",
        "It's very common for datasets to be organized by rows/columns, where each column specifies a different *property* (or *feature*) and each row is a different *measurement* (or *record*) of those features.\n",
        "\n",
        "In our example above, our dataset had $3$ *features* (age, height, weight), and one *record* per person.\n",
        "\n",
        "<img src=\"./imgs/datasets00.jpg\" width=\"700px\" />"
      ]
    },
    {
      "cell_type": "markdown",
      "metadata": {},
      "source": [
        "### JSON\n",
        "\n",
        "It's also common to find datasets specified in the JSON format.\n",
        "\n",
        "Instead of just being a list of lists with values, each *record* is an object that specifies the names and values of its *features*:\n",
        "\n",
        "<img src=\"./imgs/datasets01.jpg\" width=\"700px\" />\n",
        "\n",
        "There are advantages and disadvantages to each. We'll soon look at another way to organize datasets that will make it easier to go from one type to the other if we have to."
      ]
    },
    {
      "cell_type": "markdown",
      "metadata": {},
      "source": [
        "## Plots\n",
        "\n",
        "We can use the [matplot](https://matplotlib.org/stable/api/pyplot_summary.html) library to visualize our data."
      ]
    },
    {
      "cell_type": "code",
      "execution_count": null,
      "metadata": {},
      "outputs": [],
      "source": [
        "# TODO: get heights\n",
        "heights = []\n",
        "\n",
        "plt.plot(heights, 'bo', markersize=2)\n",
        "plt.show()"
      ]
    },
    {
      "cell_type": "code",
      "execution_count": null,
      "metadata": {},
      "outputs": [],
      "source": [
        "# TODO: get weights\n",
        "weights = []\n",
        "\n",
        "plt.plot(weights, 'ro', markersize=2)\n",
        "plt.show()"
      ]
    },
    {
      "cell_type": "code",
      "execution_count": null,
      "metadata": {},
      "outputs": [],
      "source": [
        "# TODO: plot ages in green\n",
        "ages = []"
      ]
    },
    {
      "cell_type": "markdown",
      "metadata": {},
      "source": [
        "### Sorting data can give a different perspective"
      ]
    },
    {
      "cell_type": "code",
      "execution_count": null,
      "metadata": {},
      "outputs": [],
      "source": [
        "sorted_heights = sorted(heights)\n",
        "plt.plot(sorted_heights, 'bo', markersize=2)\n",
        "plt.show()"
      ]
    },
    {
      "cell_type": "markdown",
      "metadata": {},
      "source": [
        "### Histograms"
      ]
    },
    {
      "cell_type": "code",
      "execution_count": null,
      "metadata": {},
      "outputs": [],
      "source": [
        "min_height = min(heights)\n",
        "max_height = max(heights)\n",
        "plt.hist(heights, bins=range(min_height, max_height + 1))\n",
        "plt.grid()\n",
        "plt.show()"
      ]
    },
    {
      "cell_type": "markdown",
      "metadata": {},
      "source": [
        "## Correlation\n",
        "\n",
        "Measurement of how $2$ independent variables (features) are related to each other.\n",
        "\n",
        "<img src=\"./imgs/correlation.jpg\" width=\"800px\" />\n",
        "\n",
        "They can have *positive* or *direct* correlation, if an increase in one of the variables comes with an increase in the other.\n",
        "\n",
        "They can have *negative* or *inverse* correlation if an increase in one of the variables is accompanied by a decrease in the other.\n",
        "\n",
        "Or, there can be *weak* or *NO* correlation, if a change in one variable doesn't seem to be accompanied by a change in the other."
      ]
    },
    {
      "cell_type": "code",
      "execution_count": null,
      "metadata": {},
      "outputs": [],
      "source": [
        "# use \"column\" lists from above to plot scatter plot\n",
        "plt.scatter(ages, heights, marker='o', alpha=0.2)\n",
        "plt.xlabel(\"age\")\n",
        "plt.ylabel(\"height\")\n",
        "plt.show()"
      ]
    },
    {
      "cell_type": "code",
      "execution_count": null,
      "metadata": {},
      "outputs": [],
      "source": [
        "# TODO plot other combinations of variables\n",
        "# TODO: any correlation ?"
      ]
    }
  ],
  "metadata": {
    "colab": {
      "authorship_tag": "ABX9TyMhuytAcbldogywX05phpmj",
      "provenance": []
    },
    "kernelspec": {
      "display_name": "Python 3",
      "name": "python3"
    },
    "language_info": {
      "codemirror_mode": {
        "name": "ipython",
        "version": 3
      },
      "file_extension": ".py",
      "mimetype": "text/x-python",
      "name": "python",
      "nbconvert_exporter": "python",
      "pygments_lexer": "ipython3",
      "version": "3.10.13"
    }
  },
  "nbformat": 4,
  "nbformat_minor": 0
}
